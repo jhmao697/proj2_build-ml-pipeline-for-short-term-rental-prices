{
 "cells": [
  {
   "cell_type": "code",
   "execution_count": 2,
   "id": "75d6b20e-1d7b-4474-b47e-188db04891db",
   "metadata": {},
   "outputs": [
    {
     "name": "stdout",
     "output_type": "stream",
     "text": [
      "\n",
      "Note: you may need to restart the kernel to use updated packages.\n"
     ]
    }
   ],
   "source": [
    "conda list|grep -i pandas_profiling"
   ]
  },
  {
   "cell_type": "markdown",
   "id": "6799667f-23e1-46e6-9ac1-0958083901d8",
   "metadata": {},
   "source": [
    "1. Import modules."
   ]
  },
  {
   "cell_type": "code",
   "execution_count": 2,
   "id": "f0476cd2-a9d8-4be3-bdf6-7467e26d7d5d",
   "metadata": {},
   "outputs": [
    {
     "name": "stdout",
     "output_type": "stream",
     "text": [
      "Collecting pydantic-settings\n",
      "  Using cached pydantic_settings-2.1.0-py3-none-any.whl.metadata (2.9 kB)\n",
      "Requirement already satisfied: pydantic>=2.3.0 in /home/mao/miniconda3/envs/mlflow-c0d78741de074e1b5ac3c87d3765d34ea34481d0/lib/python3.10/site-packages (from pydantic-settings) (2.5.3)\n",
      "Collecting python-dotenv>=0.21.0 (from pydantic-settings)\n",
      "  Using cached python_dotenv-1.0.0-py3-none-any.whl (19 kB)\n",
      "Requirement already satisfied: annotated-types>=0.4.0 in /home/mao/miniconda3/envs/mlflow-c0d78741de074e1b5ac3c87d3765d34ea34481d0/lib/python3.10/site-packages (from pydantic>=2.3.0->pydantic-settings) (0.6.0)\n",
      "Requirement already satisfied: pydantic-core==2.14.6 in /home/mao/miniconda3/envs/mlflow-c0d78741de074e1b5ac3c87d3765d34ea34481d0/lib/python3.10/site-packages (from pydantic>=2.3.0->pydantic-settings) (2.14.6)\n",
      "Requirement already satisfied: typing-extensions>=4.6.1 in /home/mao/.local/lib/python3.10/site-packages (from pydantic>=2.3.0->pydantic-settings) (4.8.0)\n",
      "Using cached pydantic_settings-2.1.0-py3-none-any.whl (11 kB)\n",
      "Installing collected packages: python-dotenv, pydantic-settings\n",
      "Successfully installed pydantic-settings-2.1.0 python-dotenv-1.0.0\n"
     ]
    }
   ],
   "source": [
    "!conda install pandas_profiling=3."
   ]
  },
  {
   "cell_type": "code",
   "execution_count": 1,
   "id": "dbf1458a-ea99-479d-a99c-1a5f52c59a9d",
   "metadata": {
    "tags": []
   },
   "outputs": [
    {
     "ename": "SyntaxError",
     "evalue": "unmatched ')' (_model_construction.py, line 380)",
     "output_type": "error",
     "traceback": [
      "Traceback \u001b[0;36m(most recent call last)\u001b[0m:\n",
      "\u001b[0m  File \u001b[1;32m~/.local/lib/python3.10/site-packages/IPython/core/interactiveshell.py:3526\u001b[0m in \u001b[1;35mrun_code\u001b[0m\n    exec(code_obj, self.user_global_ns, self.user_ns)\u001b[0m\n",
      "\u001b[0m  Cell \u001b[1;32mIn[1], line 3\u001b[0m\n    import pandas_profiling\u001b[0m\n",
      "\u001b[0m  File \u001b[1;32m~/miniconda3/envs/mlflow-c0d78741de074e1b5ac3c87d3765d34ea34481d0/lib/python3.10/site-packages/pandas_profiling/__init__.py:6\u001b[0m\n    from pandas_profiling.controller import pandas_decorator\u001b[0m\n",
      "\u001b[0m  File \u001b[1;32m~/miniconda3/envs/mlflow-c0d78741de074e1b5ac3c87d3765d34ea34481d0/lib/python3.10/site-packages/pandas_profiling/controller/pandas_decorator.py:4\u001b[0m\n    from pandas_profiling.profile_report import ProfileReport\u001b[0m\n",
      "\u001b[0m  File \u001b[1;32m~/miniconda3/envs/mlflow-c0d78741de074e1b5ac3c87d3765d34ea34481d0/lib/python3.10/site-packages/pandas_profiling/profile_report.py:13\u001b[0m\n    from pandas_profiling.config import Config, Settings\u001b[0m\n",
      "\u001b[0m  File \u001b[1;32m~/miniconda3/envs/mlflow-c0d78741de074e1b5ac3c87d3765d34ea34481d0/lib/python3.10/site-packages/pandas_profiling/config.py:5\u001b[0m\n    from pydantic import BaseModel, Field\u001b[0m\n",
      "\u001b[0m  File \u001b[1;32m<frozen importlib._bootstrap>:1075\u001b[0m in \u001b[1;35m_handle_fromlist\u001b[0m\n",
      "\u001b[0m  File \u001b[1;32m~/miniconda3/envs/mlflow-c0d78741de074e1b5ac3c87d3765d34ea34481d0/lib/python3.10/site-packages/pydantic/__init__.py:372\u001b[0m in \u001b[1;35m__getattr__\u001b[0m\n    module = import_module(module_name, package=package)\u001b[0m\n",
      "\u001b[0m  File \u001b[1;32m~/miniconda3/envs/mlflow-c0d78741de074e1b5ac3c87d3765d34ea34481d0/lib/python3.10/importlib/__init__.py:126\u001b[0m in \u001b[1;35mimport_module\u001b[0m\n    return _bootstrap._gcd_import(name[level:], package, level)\u001b[0m\n",
      "\u001b[0;36m  File \u001b[0;32m~/miniconda3/envs/mlflow-c0d78741de074e1b5ac3c87d3765d34ea34481d0/lib/python3.10/site-packages/pydantic/main.py:15\u001b[0;36m\n\u001b[0;31m    from ._internal import (\u001b[0;36m\n",
      "\u001b[0;36m  File \u001b[0;32m~/miniconda3/envs/mlflow-c0d78741de074e1b5ac3c87d3765d34ea34481d0/lib/python3.10/site-packages/pydantic/_internal/_model_construction.py:380\u001b[0;36m\u001b[0m\n\u001b[0;31m    )\u001b[0m\n\u001b[0m    ^\u001b[0m\n\u001b[0;31mSyntaxError\u001b[0m\u001b[0;31m:\u001b[0m unmatched ')'\n"
     ]
    }
   ],
   "source": [
    "import wandb\n",
    "import pandas as pd\n",
    "import pandas_profiling"
   ]
  },
  {
   "cell_type": "markdown",
   "id": "5475e9b5-ac51-4a62-95dd-9cda63466537",
   "metadata": {},
   "source": [
    "2. Initiate wandb project.\n",
    "use save_code=True in the call to wandb.init so the notebook is uploaded and versioned by W&B."
   ]
  },
  {
   "cell_type": "code",
   "execution_count": 2,
   "id": "bf6ca5c9-115a-4e22-826b-06ad7f0f92ca",
   "metadata": {
    "tags": []
   },
   "outputs": [
    {
     "name": "stderr",
     "output_type": "stream",
     "text": [
      "\u001b[34m\u001b[1mwandb\u001b[0m: Currently logged in as: \u001b[33mjianghui-mao\u001b[0m (\u001b[33mstla\u001b[0m). Use \u001b[1m`wandb login --relogin`\u001b[0m to force relogin\n"
     ]
    },
    {
     "data": {
      "text/html": [
       "wandb version 0.16.1 is available!  To upgrade, please run:\n",
       " $ pip install wandb --upgrade"
      ],
      "text/plain": [
       "<IPython.core.display.HTML object>"
      ]
     },
     "metadata": {},
     "output_type": "display_data"
    },
    {
     "data": {
      "text/html": [
       "Tracking run with wandb version 0.16.0"
      ],
      "text/plain": [
       "<IPython.core.display.HTML object>"
      ]
     },
     "metadata": {},
     "output_type": "display_data"
    },
    {
     "data": {
      "text/html": [
       "Run data is saved locally in <code>/home/mao/workspace/Udacity-ML_DevOps/proj2_build-ml-pipeline-for-short-term-rental-prices/src/eda/wandb/run-20231223_104306-6bmqor04</code>"
      ],
      "text/plain": [
       "<IPython.core.display.HTML object>"
      ]
     },
     "metadata": {},
     "output_type": "display_data"
    },
    {
     "data": {
      "text/html": [
       "Syncing run <strong><a href='https://wandb.ai/stla/nyc_airbnb/runs/6bmqor04' target=\"_blank\">lyric-energy-3</a></strong> to <a href='https://wandb.ai/stla/nyc_airbnb' target=\"_blank\">Weights & Biases</a> (<a href='https://wandb.me/run' target=\"_blank\">docs</a>)<br/>"
      ],
      "text/plain": [
       "<IPython.core.display.HTML object>"
      ]
     },
     "metadata": {},
     "output_type": "display_data"
    },
    {
     "data": {
      "text/html": [
       " View project at <a href='https://wandb.ai/stla/nyc_airbnb' target=\"_blank\">https://wandb.ai/stla/nyc_airbnb</a>"
      ],
      "text/plain": [
       "<IPython.core.display.HTML object>"
      ]
     },
     "metadata": {},
     "output_type": "display_data"
    },
    {
     "data": {
      "text/html": [
       " View run at <a href='https://wandb.ai/stla/nyc_airbnb/runs/6bmqor04' target=\"_blank\">https://wandb.ai/stla/nyc_airbnb/runs/6bmqor04</a>"
      ],
      "text/plain": [
       "<IPython.core.display.HTML object>"
      ]
     },
     "metadata": {},
     "output_type": "display_data"
    }
   ],
   "source": [
    "run = wandb.init(project=\"nyc_airbnb\", group=\"eda\", save_code=True)"
   ]
  },
  {
   "cell_type": "markdown",
   "id": "c8260871-209a-44c2-8071-8941686388af",
   "metadata": {},
   "source": [
    "3. Fetch the artifact just created (sample.csv) from W&B, and read it with pandas:"
   ]
  },
  {
   "cell_type": "code",
   "execution_count": 3,
   "id": "ac879a6b-b695-4ec8-8aae-6e77a08e278b",
   "metadata": {},
   "outputs": [],
   "source": [
    "local_path = run.use_artifact(\"sample.csv:latest\").file()\n",
    "df = pd.read_csv(local_path)"
   ]
  },
  {
   "cell_type": "markdown",
   "id": "ac380e8d-96a4-4c34-af0e-9166432ce81b",
   "metadata": {},
   "source": [
    "Using pandas-profiling, create a profile"
   ]
  },
  {
   "cell_type": "code",
   "execution_count": 2,
   "id": "e47ee120-ada9-4fb9-8f63-11c4825478da",
   "metadata": {},
   "outputs": [
    {
     "ename": "PydanticUserError",
     "evalue": "A non-annotated attribute was detected: `notebook = Notebook(iframe=Iframe(height='800px', width='100%', attribute=<IframeAttribute.srcdoc: 'srcdoc'>))`. All model fields require a type annotation; if `notebook` is not meant to be a field, you may be able to resolve this error by annotating it as a `ClassVar` or updating `model_config['ignored_types']`.\n\nFor further information visit https://errors.pydantic.dev/2.5/u/model-field-missing-annotation",
     "output_type": "error",
     "traceback": [
      "\u001b[0;31m---------------------------------------------------------------------------\u001b[0m",
      "\u001b[0;31mPydanticUserError\u001b[0m                         Traceback (most recent call last)",
      "Cell \u001b[0;32mIn[2], line 1\u001b[0m\n\u001b[0;32m----> 1\u001b[0m \u001b[38;5;28;01mfrom\u001b[39;00m \u001b[38;5;21;01mpandas_profiling\u001b[39;00m \u001b[38;5;28;01mimport\u001b[39;00m ProfileReport\n\u001b[1;32m      3\u001b[0m profile \u001b[38;5;241m=\u001b[39m ProfileReport(df)\n\u001b[1;32m      4\u001b[0m profile\u001b[38;5;241m.\u001b[39mto_widgets()\n",
      "File \u001b[0;32m~/miniconda3/envs/mlflow-c0d78741de074e1b5ac3c87d3765d34ea34481d0/lib/python3.10/site-packages/pandas_profiling/__init__.py:6\u001b[0m\n\u001b[1;32m      1\u001b[0m \u001b[38;5;124;03m\"\"\"Main module of pandas-profiling.\u001b[39;00m\n\u001b[1;32m      2\u001b[0m \n\u001b[1;32m      3\u001b[0m \u001b[38;5;124;03m.. include:: ../../README.md\u001b[39;00m\n\u001b[1;32m      4\u001b[0m \u001b[38;5;124;03m\"\"\"\u001b[39;00m\n\u001b[0;32m----> 6\u001b[0m \u001b[38;5;28;01mfrom\u001b[39;00m \u001b[38;5;21;01mpandas_profiling\u001b[39;00m\u001b[38;5;21;01m.\u001b[39;00m\u001b[38;5;21;01mcontroller\u001b[39;00m \u001b[38;5;28;01mimport\u001b[39;00m pandas_decorator\n\u001b[1;32m      7\u001b[0m \u001b[38;5;28;01mfrom\u001b[39;00m \u001b[38;5;21;01mpandas_profiling\u001b[39;00m\u001b[38;5;21;01m.\u001b[39;00m\u001b[38;5;21;01mprofile_report\u001b[39;00m \u001b[38;5;28;01mimport\u001b[39;00m ProfileReport\n\u001b[1;32m      8\u001b[0m \u001b[38;5;28;01mfrom\u001b[39;00m \u001b[38;5;21;01mpandas_profiling\u001b[39;00m\u001b[38;5;21;01m.\u001b[39;00m\u001b[38;5;21;01mversion\u001b[39;00m \u001b[38;5;28;01mimport\u001b[39;00m __version__\n",
      "File \u001b[0;32m~/miniconda3/envs/mlflow-c0d78741de074e1b5ac3c87d3765d34ea34481d0/lib/python3.10/site-packages/pandas_profiling/controller/pandas_decorator.py:4\u001b[0m\n\u001b[1;32m      1\u001b[0m \u001b[38;5;124;03m\"\"\"This file add the decorator on the DataFrame object.\"\"\"\u001b[39;00m\n\u001b[1;32m      2\u001b[0m \u001b[38;5;28;01mfrom\u001b[39;00m \u001b[38;5;21;01mpandas\u001b[39;00m \u001b[38;5;28;01mimport\u001b[39;00m DataFrame\n\u001b[0;32m----> 4\u001b[0m \u001b[38;5;28;01mfrom\u001b[39;00m \u001b[38;5;21;01mpandas_profiling\u001b[39;00m\u001b[38;5;21;01m.\u001b[39;00m\u001b[38;5;21;01mprofile_report\u001b[39;00m \u001b[38;5;28;01mimport\u001b[39;00m ProfileReport\n\u001b[1;32m      7\u001b[0m \u001b[38;5;28;01mdef\u001b[39;00m \u001b[38;5;21mprofile_report\u001b[39m(df: DataFrame, \u001b[38;5;241m*\u001b[39m\u001b[38;5;241m*\u001b[39mkwargs) \u001b[38;5;241m-\u001b[39m\u001b[38;5;241m>\u001b[39m ProfileReport:\n\u001b[1;32m      8\u001b[0m \u001b[38;5;250m    \u001b[39m\u001b[38;5;124;03m\"\"\"Profile a DataFrame.\u001b[39;00m\n\u001b[1;32m      9\u001b[0m \n\u001b[1;32m     10\u001b[0m \u001b[38;5;124;03m    Args:\u001b[39;00m\n\u001b[0;32m   (...)\u001b[0m\n\u001b[1;32m     15\u001b[0m \u001b[38;5;124;03m        A ProfileReport of the DataFrame.\u001b[39;00m\n\u001b[1;32m     16\u001b[0m \u001b[38;5;124;03m    \"\"\"\u001b[39;00m\n",
      "File \u001b[0;32m~/miniconda3/envs/mlflow-c0d78741de074e1b5ac3c87d3765d34ea34481d0/lib/python3.10/site-packages/pandas_profiling/profile_report.py:13\u001b[0m\n\u001b[1;32m     10\u001b[0m \u001b[38;5;28;01mfrom\u001b[39;00m \u001b[38;5;21;01mtqdm\u001b[39;00m\u001b[38;5;21;01m.\u001b[39;00m\u001b[38;5;21;01mauto\u001b[39;00m \u001b[38;5;28;01mimport\u001b[39;00m tqdm\n\u001b[1;32m     11\u001b[0m \u001b[38;5;28;01mfrom\u001b[39;00m \u001b[38;5;21;01mvisions\u001b[39;00m \u001b[38;5;28;01mimport\u001b[39;00m VisionsTypeset\n\u001b[0;32m---> 13\u001b[0m \u001b[38;5;28;01mfrom\u001b[39;00m \u001b[38;5;21;01mpandas_profiling\u001b[39;00m\u001b[38;5;21;01m.\u001b[39;00m\u001b[38;5;21;01mconfig\u001b[39;00m \u001b[38;5;28;01mimport\u001b[39;00m Config, Settings\n\u001b[1;32m     14\u001b[0m \u001b[38;5;28;01mfrom\u001b[39;00m \u001b[38;5;21;01mpandas_profiling\u001b[39;00m\u001b[38;5;21;01m.\u001b[39;00m\u001b[38;5;21;01mexpectations_report\u001b[39;00m \u001b[38;5;28;01mimport\u001b[39;00m ExpectationsReport\n\u001b[1;32m     15\u001b[0m \u001b[38;5;28;01mfrom\u001b[39;00m \u001b[38;5;21;01mpandas_profiling\u001b[39;00m\u001b[38;5;21;01m.\u001b[39;00m\u001b[38;5;21;01mmodel\u001b[39;00m\u001b[38;5;21;01m.\u001b[39;00m\u001b[38;5;21;01mdescribe\u001b[39;00m \u001b[38;5;28;01mimport\u001b[39;00m describe \u001b[38;5;28;01mas\u001b[39;00m describe_df\n",
      "File \u001b[0;32m~/miniconda3/envs/mlflow-c0d78741de074e1b5ac3c87d3765d34ea34481d0/lib/python3.10/site-packages/pandas_profiling/config.py:235\u001b[0m\n\u001b[1;32m    231\u001b[0m \u001b[38;5;28;01mclass\u001b[39;00m \u001b[38;5;21;01mReport\u001b[39;00m(BaseModel):\n\u001b[1;32m    232\u001b[0m     precision: \u001b[38;5;28mint\u001b[39m \u001b[38;5;241m=\u001b[39m \u001b[38;5;241m10\u001b[39m\n\u001b[0;32m--> 235\u001b[0m \u001b[38;5;28;01mclass\u001b[39;00m \u001b[38;5;21;01mSettings\u001b[39;00m(BaseSettings):\n\u001b[1;32m    236\u001b[0m     \u001b[38;5;66;03m# Title of the document\u001b[39;00m\n\u001b[1;32m    237\u001b[0m     title: \u001b[38;5;28mstr\u001b[39m \u001b[38;5;241m=\u001b[39m \u001b[38;5;124m\"\u001b[39m\u001b[38;5;124mPandas Profiling Report\u001b[39m\u001b[38;5;124m\"\u001b[39m\n\u001b[1;32m    239\u001b[0m     dataset: Dataset \u001b[38;5;241m=\u001b[39m Dataset()\n",
      "File \u001b[0;32m~/miniconda3/envs/mlflow-c0d78741de074e1b5ac3c87d3765d34ea34481d0/lib/python3.10/site-packages/pydantic/_internal/_model_construction.py:92\u001b[0m, in \u001b[0;36mModelMetaclass.__new__\u001b[0;34m(mcs, cls_name, bases, namespace, __pydantic_generic_metadata__, __pydantic_reset_parent_namespace__, _create_model_module, **kwargs)\u001b[0m\n\u001b[1;32m     90\u001b[0m config_wrapper \u001b[38;5;241m=\u001b[39m ConfigWrapper\u001b[38;5;241m.\u001b[39mfor_model(bases, namespace, kwargs)\n\u001b[1;32m     91\u001b[0m namespace[\u001b[38;5;124m'\u001b[39m\u001b[38;5;124mmodel_config\u001b[39m\u001b[38;5;124m'\u001b[39m] \u001b[38;5;241m=\u001b[39m config_wrapper\u001b[38;5;241m.\u001b[39mconfig_dict\n\u001b[0;32m---> 92\u001b[0m private_attributes \u001b[38;5;241m=\u001b[39m \u001b[43minspect_namespace\u001b[49m\u001b[43m(\u001b[49m\n\u001b[1;32m     93\u001b[0m \u001b[43m    \u001b[49m\u001b[43mnamespace\u001b[49m\u001b[43m,\u001b[49m\u001b[43m \u001b[49m\u001b[43mconfig_wrapper\u001b[49m\u001b[38;5;241;43m.\u001b[39;49m\u001b[43mignored_types\u001b[49m\u001b[43m,\u001b[49m\u001b[43m \u001b[49m\u001b[43mclass_vars\u001b[49m\u001b[43m,\u001b[49m\u001b[43m \u001b[49m\u001b[43mbase_field_names\u001b[49m\n\u001b[1;32m     94\u001b[0m \u001b[43m\u001b[49m\u001b[43m)\u001b[49m\n\u001b[1;32m     95\u001b[0m \u001b[38;5;28;01mif\u001b[39;00m private_attributes:\n\u001b[1;32m     96\u001b[0m     original_model_post_init \u001b[38;5;241m=\u001b[39m get_model_post_init(namespace, bases)\n",
      "File \u001b[0;32m~/miniconda3/envs/mlflow-c0d78741de074e1b5ac3c87d3765d34ea34481d0/lib/python3.10/site-packages/pydantic/_internal/_model_construction.py:372\u001b[0m, in \u001b[0;36minspect_namespace\u001b[0;34m(namespace, ignored_types, base_class_vars, base_class_fields)\u001b[0m\n\u001b[1;32m    368\u001b[0m             \u001b[38;5;28;01mraise\u001b[39;00m PydanticUserError(\n\u001b[1;32m    369\u001b[0m                 \u001b[38;5;124mf\u001b[39m\u001b[38;5;124m'\u001b[39m\u001b[38;5;124mField \u001b[39m\u001b[38;5;132;01m{\u001b[39;00mvar_name\u001b[38;5;132;01m!r}\u001b[39;00m\u001b[38;5;124m requires a type annotation\u001b[39m\u001b[38;5;124m'\u001b[39m, code\u001b[38;5;241m=\u001b[39m\u001b[38;5;124m'\u001b[39m\u001b[38;5;124mmodel-field-missing-annotation\u001b[39m\u001b[38;5;124m'\u001b[39m\n\u001b[1;32m    370\u001b[0m             )\n\u001b[1;32m    371\u001b[0m         \u001b[38;5;28;01melse\u001b[39;00m:\n\u001b[0;32m--> 372\u001b[0m             \u001b[38;5;28;01mraise\u001b[39;00m PydanticUserError(\n\u001b[1;32m    373\u001b[0m                 \u001b[38;5;124mf\u001b[39m\u001b[38;5;124m'\u001b[39m\u001b[38;5;124mA non-annotated attribute was detected: `\u001b[39m\u001b[38;5;132;01m{\u001b[39;00mvar_name\u001b[38;5;132;01m}\u001b[39;00m\u001b[38;5;124m = \u001b[39m\u001b[38;5;132;01m{\u001b[39;00mvalue\u001b[38;5;132;01m!r}\u001b[39;00m\u001b[38;5;124m`. All model fields require a \u001b[39m\u001b[38;5;124m'\u001b[39m\n\u001b[1;32m    374\u001b[0m                 \u001b[38;5;124mf\u001b[39m\u001b[38;5;124m'\u001b[39m\u001b[38;5;124mtype annotation; if `\u001b[39m\u001b[38;5;132;01m{\u001b[39;00mvar_name\u001b[38;5;132;01m}\u001b[39;00m\u001b[38;5;124m` is not meant to be a field, you may be able to resolve this \u001b[39m\u001b[38;5;124m'\u001b[39m\n\u001b[1;32m    375\u001b[0m                 \u001b[38;5;124mf\u001b[39m\u001b[38;5;124m\"\u001b[39m\u001b[38;5;124merror by annotating it as a `ClassVar` or updating `model_config[\u001b[39m\u001b[38;5;124m'\u001b[39m\u001b[38;5;124mignored_types\u001b[39m\u001b[38;5;124m'\u001b[39m\u001b[38;5;124m]`.\u001b[39m\u001b[38;5;124m\"\u001b[39m,\n\u001b[1;32m    376\u001b[0m                 code\u001b[38;5;241m=\u001b[39m\u001b[38;5;124m'\u001b[39m\u001b[38;5;124mmodel-field-missing-annotation\u001b[39m\u001b[38;5;124m'\u001b[39m,\n\u001b[1;32m    377\u001b[0m             )\n\u001b[1;32m    379\u001b[0m \u001b[38;5;28;01mfor\u001b[39;00m ann_name, ann_type \u001b[38;5;129;01min\u001b[39;00m raw_annotations\u001b[38;5;241m.\u001b[39mitems():\n\u001b[1;32m    380\u001b[0m     \u001b[38;5;28;01mif\u001b[39;00m (\n\u001b[1;32m    381\u001b[0m         is_valid_privateattr_name(ann_name)\n\u001b[1;32m    382\u001b[0m         \u001b[38;5;129;01mand\u001b[39;00m ann_name \u001b[38;5;129;01mnot\u001b[39;00m \u001b[38;5;129;01min\u001b[39;00m private_attributes\n\u001b[0;32m   (...)\u001b[0m\n\u001b[1;32m    386\u001b[0m         \u001b[38;5;129;01mand\u001b[39;00m \u001b[38;5;28mgetattr\u001b[39m(ann_type, \u001b[38;5;124m'\u001b[39m\u001b[38;5;124m__module__\u001b[39m\u001b[38;5;124m'\u001b[39m, \u001b[38;5;28;01mNone\u001b[39;00m) \u001b[38;5;241m!=\u001b[39m \u001b[38;5;124m'\u001b[39m\u001b[38;5;124mfunctools\u001b[39m\u001b[38;5;124m'\u001b[39m\n\u001b[1;32m    387\u001b[0m     ):\n",
      "\u001b[0;31mPydanticUserError\u001b[0m: A non-annotated attribute was detected: `notebook = Notebook(iframe=Iframe(height='800px', width='100%', attribute=<IframeAttribute.srcdoc: 'srcdoc'>))`. All model fields require a type annotation; if `notebook` is not meant to be a field, you may be able to resolve this error by annotating it as a `ClassVar` or updating `model_config['ignored_types']`.\n\nFor further information visit https://errors.pydantic.dev/2.5/u/model-field-missing-annotation"
     ]
    }
   ],
   "source": [
    "profile = pandas_profiling.ProfileReport(df)\n",
    "profile.to_widgets()"
   ]
  },
  {
   "cell_type": "code",
   "execution_count": null,
   "id": "243c8d08-1c5a-42af-a3b8-947fc904746d",
   "metadata": {},
   "outputs": [],
   "source": []
  }
 ],
 "metadata": {
  "kernelspec": {
   "display_name": "Python 3 (ipykernel)",
   "language": "python",
   "name": "python3"
  },
  "language_info": {
   "codemirror_mode": {
    "name": "ipython",
    "version": 3
   },
   "file_extension": ".py",
   "mimetype": "text/x-python",
   "name": "python",
   "nbconvert_exporter": "python",
   "pygments_lexer": "ipython3",
   "version": "3.10.13"
  },
  "widgets": {
   "application/vnd.jupyter.widget-state+json": {
    "state": {},
    "version_major": 2,
    "version_minor": 0
   }
  }
 },
 "nbformat": 4,
 "nbformat_minor": 5
}
